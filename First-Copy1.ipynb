{
 "cells": [
  {
   "cell_type": "markdown",
   "metadata": {
    "collapsed": true
   },
   "source": [
    "# first test\n",
    "\n",
    "fdafsd\n",
    "\n",
    "fdafda\n"
   ]
  },
  {
   "cell_type": "code",
   "execution_count": 48,
   "metadata": {
    "collapsed": true
   },
   "outputs": [],
   "source": [
    "import matplotlib.pyplot as plt\n",
    "%matplotlib inline\n",
    "import numpy as np\n",
    "import pandas as pd\n",
    "import statsmodels.api as sm\n",
    "from scipy.stats import mode\n",
    "from statsmodels.nonparametric.kde import KDEUnivariate\n",
    "from statsmodels.nonparametric import smoothers_lowess\n",
    "from pandas import Series, DataFrame\n",
    "from patsy import dmatrices\n",
    "from sklearn import datasets, svm, tree"
   ]
  },
  {
   "cell_type": "code",
   "execution_count": 49,
   "metadata": {
    "collapsed": false
   },
   "outputs": [
    {
     "name": "stdout",
     "output_type": "stream",
     "text": [
      "   PassengerId  Survived  Pclass  \\\n",
      "0            1         0       3   \n",
      "1            2         1       1   \n",
      "2            3         1       3   \n",
      "3            4         1       1   \n",
      "4            5         0       3   \n",
      "\n",
      "                                                Name     Sex   Age  SibSp  \\\n",
      "0                            Braund, Mr. Owen Harris    male  22.0      1   \n",
      "1  Cumings, Mrs. John Bradley (Florence Briggs Th...  female  38.0      1   \n",
      "2                             Heikkinen, Miss. Laina  female  26.0      0   \n",
      "3       Futrelle, Mrs. Jacques Heath (Lily May Peel)  female  35.0      1   \n",
      "4                           Allen, Mr. William Henry    male  35.0      0   \n",
      "\n",
      "   Parch            Ticket     Fare Cabin Embarked  \n",
      "0      0         A/5 21171   7.2500   NaN        S  \n",
      "1      0          PC 17599  71.2833   C85        C  \n",
      "2      0  STON/O2. 3101282   7.9250   NaN        S  \n",
      "3      0            113803  53.1000  C123        S  \n",
      "4      0            373450   8.0500   NaN        S  \n",
      "   PassengerId  Pclass                                          Name     Sex  \\\n",
      "0          892       3                              Kelly, Mr. James    male   \n",
      "1          893       3              Wilkes, Mrs. James (Ellen Needs)  female   \n",
      "2          894       2                     Myles, Mr. Thomas Francis    male   \n",
      "3          895       3                              Wirz, Mr. Albert    male   \n",
      "4          896       3  Hirvonen, Mrs. Alexander (Helga E Lindqvist)  female   \n",
      "\n",
      "    Age  SibSp  Parch   Ticket     Fare Cabin Embarked  \n",
      "0  34.5      0      0   330911   7.8292   NaN        Q  \n",
      "1  47.0      1      0   363272   7.0000   NaN        S  \n",
      "2  62.0      0      0   240276   9.6875   NaN        Q  \n",
      "3  27.0      0      0   315154   8.6625   NaN        S  \n",
      "4  22.0      1      1  3101298  12.2875   NaN        S  \n"
     ]
    }
   ],
   "source": [
    "train = pd.read_csv(\"data/train.csv\")\n",
    "test = pd.read_csv(\"data/test.csv\")\n",
    "print(train.head())\n",
    "print(test.head())\n"
   ]
  },
  {
   "cell_type": "code",
   "execution_count": 50,
   "metadata": {
    "collapsed": false
   },
   "outputs": [
    {
     "data": {
      "text/plain": [
       "(418, 11)"
      ]
     },
     "execution_count": 50,
     "metadata": {},
     "output_type": "execute_result"
    }
   ],
   "source": [
    "test.shape"
   ]
  },
  {
   "cell_type": "code",
   "execution_count": 51,
   "metadata": {
    "collapsed": false
   },
   "outputs": [
    {
     "data": {
      "text/html": [
       "<div>\n",
       "<table border=\"1\" class=\"dataframe\">\n",
       "  <thead>\n",
       "    <tr style=\"text-align: right;\">\n",
       "      <th></th>\n",
       "      <th>PassengerId</th>\n",
       "      <th>Pclass</th>\n",
       "      <th>Age</th>\n",
       "      <th>SibSp</th>\n",
       "      <th>Parch</th>\n",
       "      <th>Fare</th>\n",
       "    </tr>\n",
       "  </thead>\n",
       "  <tbody>\n",
       "    <tr>\n",
       "      <th>count</th>\n",
       "      <td>418.000000</td>\n",
       "      <td>418.000000</td>\n",
       "      <td>332.000000</td>\n",
       "      <td>418.000000</td>\n",
       "      <td>418.000000</td>\n",
       "      <td>417.000000</td>\n",
       "    </tr>\n",
       "    <tr>\n",
       "      <th>mean</th>\n",
       "      <td>1100.500000</td>\n",
       "      <td>2.265550</td>\n",
       "      <td>30.272590</td>\n",
       "      <td>0.447368</td>\n",
       "      <td>0.392344</td>\n",
       "      <td>35.627188</td>\n",
       "    </tr>\n",
       "    <tr>\n",
       "      <th>std</th>\n",
       "      <td>120.810458</td>\n",
       "      <td>0.841838</td>\n",
       "      <td>14.181209</td>\n",
       "      <td>0.896760</td>\n",
       "      <td>0.981429</td>\n",
       "      <td>55.907576</td>\n",
       "    </tr>\n",
       "    <tr>\n",
       "      <th>min</th>\n",
       "      <td>892.000000</td>\n",
       "      <td>1.000000</td>\n",
       "      <td>0.170000</td>\n",
       "      <td>0.000000</td>\n",
       "      <td>0.000000</td>\n",
       "      <td>0.000000</td>\n",
       "    </tr>\n",
       "    <tr>\n",
       "      <th>25%</th>\n",
       "      <td>996.250000</td>\n",
       "      <td>1.000000</td>\n",
       "      <td>NaN</td>\n",
       "      <td>0.000000</td>\n",
       "      <td>0.000000</td>\n",
       "      <td>NaN</td>\n",
       "    </tr>\n",
       "    <tr>\n",
       "      <th>50%</th>\n",
       "      <td>1100.500000</td>\n",
       "      <td>3.000000</td>\n",
       "      <td>NaN</td>\n",
       "      <td>0.000000</td>\n",
       "      <td>0.000000</td>\n",
       "      <td>NaN</td>\n",
       "    </tr>\n",
       "    <tr>\n",
       "      <th>75%</th>\n",
       "      <td>1204.750000</td>\n",
       "      <td>3.000000</td>\n",
       "      <td>NaN</td>\n",
       "      <td>1.000000</td>\n",
       "      <td>0.000000</td>\n",
       "      <td>NaN</td>\n",
       "    </tr>\n",
       "    <tr>\n",
       "      <th>max</th>\n",
       "      <td>1309.000000</td>\n",
       "      <td>3.000000</td>\n",
       "      <td>76.000000</td>\n",
       "      <td>8.000000</td>\n",
       "      <td>9.000000</td>\n",
       "      <td>512.329200</td>\n",
       "    </tr>\n",
       "  </tbody>\n",
       "</table>\n",
       "</div>"
      ],
      "text/plain": [
       "       PassengerId      Pclass         Age       SibSp       Parch        Fare\n",
       "count   418.000000  418.000000  332.000000  418.000000  418.000000  417.000000\n",
       "mean   1100.500000    2.265550   30.272590    0.447368    0.392344   35.627188\n",
       "std     120.810458    0.841838   14.181209    0.896760    0.981429   55.907576\n",
       "min     892.000000    1.000000    0.170000    0.000000    0.000000    0.000000\n",
       "25%     996.250000    1.000000         NaN    0.000000    0.000000         NaN\n",
       "50%    1100.500000    3.000000         NaN    0.000000    0.000000         NaN\n",
       "75%    1204.750000    3.000000         NaN    1.000000    0.000000         NaN\n",
       "max    1309.000000    3.000000   76.000000    8.000000    9.000000  512.329200"
      ]
     },
     "execution_count": 51,
     "metadata": {},
     "output_type": "execute_result"
    }
   ],
   "source": [
    "test.describe()"
   ]
  },
  {
   "cell_type": "code",
   "execution_count": 52,
   "metadata": {
    "collapsed": false
   },
   "outputs": [
    {
     "data": {
      "text/plain": [
       "(891, 12)"
      ]
     },
     "execution_count": 52,
     "metadata": {},
     "output_type": "execute_result"
    }
   ],
   "source": [
    "train.shape"
   ]
  },
  {
   "cell_type": "code",
   "execution_count": 53,
   "metadata": {
    "collapsed": false
   },
   "outputs": [
    {
     "data": {
      "text/html": [
       "<div>\n",
       "<table border=\"1\" class=\"dataframe\">\n",
       "  <thead>\n",
       "    <tr style=\"text-align: right;\">\n",
       "      <th></th>\n",
       "      <th>PassengerId</th>\n",
       "      <th>Survived</th>\n",
       "      <th>Pclass</th>\n",
       "      <th>Age</th>\n",
       "      <th>SibSp</th>\n",
       "      <th>Parch</th>\n",
       "      <th>Fare</th>\n",
       "    </tr>\n",
       "  </thead>\n",
       "  <tbody>\n",
       "    <tr>\n",
       "      <th>count</th>\n",
       "      <td>891.000000</td>\n",
       "      <td>891.000000</td>\n",
       "      <td>891.000000</td>\n",
       "      <td>714.000000</td>\n",
       "      <td>891.000000</td>\n",
       "      <td>891.000000</td>\n",
       "      <td>891.000000</td>\n",
       "    </tr>\n",
       "    <tr>\n",
       "      <th>mean</th>\n",
       "      <td>446.000000</td>\n",
       "      <td>0.383838</td>\n",
       "      <td>2.308642</td>\n",
       "      <td>29.699118</td>\n",
       "      <td>0.523008</td>\n",
       "      <td>0.381594</td>\n",
       "      <td>32.204208</td>\n",
       "    </tr>\n",
       "    <tr>\n",
       "      <th>std</th>\n",
       "      <td>257.353842</td>\n",
       "      <td>0.486592</td>\n",
       "      <td>0.836071</td>\n",
       "      <td>14.526497</td>\n",
       "      <td>1.102743</td>\n",
       "      <td>0.806057</td>\n",
       "      <td>49.693429</td>\n",
       "    </tr>\n",
       "    <tr>\n",
       "      <th>min</th>\n",
       "      <td>1.000000</td>\n",
       "      <td>0.000000</td>\n",
       "      <td>1.000000</td>\n",
       "      <td>0.420000</td>\n",
       "      <td>0.000000</td>\n",
       "      <td>0.000000</td>\n",
       "      <td>0.000000</td>\n",
       "    </tr>\n",
       "    <tr>\n",
       "      <th>25%</th>\n",
       "      <td>223.500000</td>\n",
       "      <td>0.000000</td>\n",
       "      <td>2.000000</td>\n",
       "      <td>NaN</td>\n",
       "      <td>0.000000</td>\n",
       "      <td>0.000000</td>\n",
       "      <td>7.910400</td>\n",
       "    </tr>\n",
       "    <tr>\n",
       "      <th>50%</th>\n",
       "      <td>446.000000</td>\n",
       "      <td>0.000000</td>\n",
       "      <td>3.000000</td>\n",
       "      <td>NaN</td>\n",
       "      <td>0.000000</td>\n",
       "      <td>0.000000</td>\n",
       "      <td>14.454200</td>\n",
       "    </tr>\n",
       "    <tr>\n",
       "      <th>75%</th>\n",
       "      <td>668.500000</td>\n",
       "      <td>1.000000</td>\n",
       "      <td>3.000000</td>\n",
       "      <td>NaN</td>\n",
       "      <td>1.000000</td>\n",
       "      <td>0.000000</td>\n",
       "      <td>31.000000</td>\n",
       "    </tr>\n",
       "    <tr>\n",
       "      <th>max</th>\n",
       "      <td>891.000000</td>\n",
       "      <td>1.000000</td>\n",
       "      <td>3.000000</td>\n",
       "      <td>80.000000</td>\n",
       "      <td>8.000000</td>\n",
       "      <td>6.000000</td>\n",
       "      <td>512.329200</td>\n",
       "    </tr>\n",
       "  </tbody>\n",
       "</table>\n",
       "</div>"
      ],
      "text/plain": [
       "       PassengerId    Survived      Pclass         Age       SibSp  \\\n",
       "count   891.000000  891.000000  891.000000  714.000000  891.000000   \n",
       "mean    446.000000    0.383838    2.308642   29.699118    0.523008   \n",
       "std     257.353842    0.486592    0.836071   14.526497    1.102743   \n",
       "min       1.000000    0.000000    1.000000    0.420000    0.000000   \n",
       "25%     223.500000    0.000000    2.000000         NaN    0.000000   \n",
       "50%     446.000000    0.000000    3.000000         NaN    0.000000   \n",
       "75%     668.500000    1.000000    3.000000         NaN    1.000000   \n",
       "max     891.000000    1.000000    3.000000   80.000000    8.000000   \n",
       "\n",
       "            Parch        Fare  \n",
       "count  891.000000  891.000000  \n",
       "mean     0.381594   32.204208  \n",
       "std      0.806057   49.693429  \n",
       "min      0.000000    0.000000  \n",
       "25%      0.000000    7.910400  \n",
       "50%      0.000000   14.454200  \n",
       "75%      0.000000   31.000000  \n",
       "max      6.000000  512.329200  "
      ]
     },
     "execution_count": 53,
     "metadata": {},
     "output_type": "execute_result"
    }
   ],
   "source": [
    "train.describe()"
   ]
  },
  {
   "cell_type": "code",
   "execution_count": 54,
   "metadata": {
    "collapsed": false
   },
   "outputs": [
    {
     "name": "stdout",
     "output_type": "stream",
     "text": [
      "PassengerId                            125\n",
      "Survived                                 0\n",
      "Pclass                                   1\n",
      "Name           White, Mr. Percival Wayland\n",
      "Sex                                   male\n",
      "Age                                     54\n",
      "SibSp                                    0\n",
      "Parch                                    1\n",
      "Ticket                               35281\n",
      "Fare                               77.2875\n",
      "Cabin                                  D26\n",
      "Embarked                                 S\n",
      "Name: 124, dtype: object\n"
     ]
    }
   ],
   "source": [
    "print train.iloc[124]"
   ]
  },
  {
   "cell_type": "code",
   "execution_count": 55,
   "metadata": {
    "collapsed": false
   },
   "outputs": [
    {
     "name": "stdout",
     "output_type": "stream",
     "text": [
      "PassengerId                            125\n",
      "Survived                                 0\n",
      "Pclass                                   1\n",
      "Name           White, Mr. Percival Wayland\n",
      "Sex                                   male\n",
      "Age                                     54\n",
      "SibSp                                    0\n",
      "Parch                                    1\n",
      "Fare                               77.2875\n",
      "Embarked                                 S\n",
      "Name: 124, dtype: object\n"
     ]
    }
   ],
   "source": [
    "train = train.drop(['Ticket','Cabin'], axis=1)\n",
    "print train.iloc[124]\n"
   ]
  },
  {
   "cell_type": "code",
   "execution_count": 56,
   "metadata": {
    "collapsed": false
   },
   "outputs": [
    {
     "name": "stdout",
     "output_type": "stream",
     "text": [
      "     PassengerId  Survived  Pclass  \\\n",
      "0              1         0       3   \n",
      "1              2         1       1   \n",
      "2              3         1       3   \n",
      "3              4         1       1   \n",
      "4              5         0       3   \n",
      "5              6         0       3   \n",
      "6              7         0       1   \n",
      "7              8         0       3   \n",
      "8              9         1       3   \n",
      "9             10         1       2   \n",
      "10            11         1       3   \n",
      "11            12         1       1   \n",
      "12            13         0       3   \n",
      "13            14         0       3   \n",
      "14            15         0       3   \n",
      "15            16         1       2   \n",
      "16            17         0       3   \n",
      "17            18         1       2   \n",
      "18            19         0       3   \n",
      "19            20         1       3   \n",
      "20            21         0       2   \n",
      "21            22         1       2   \n",
      "22            23         1       3   \n",
      "23            24         1       1   \n",
      "24            25         0       3   \n",
      "25            26         1       3   \n",
      "26            27         0       3   \n",
      "27            28         0       1   \n",
      "28            29         1       3   \n",
      "29            30         0       3   \n",
      "..           ...       ...     ...   \n",
      "861          862         0       2   \n",
      "862          863         1       1   \n",
      "863          864         0       3   \n",
      "864          865         0       2   \n",
      "865          866         1       2   \n",
      "866          867         1       2   \n",
      "867          868         0       1   \n",
      "868          869         0       3   \n",
      "869          870         1       3   \n",
      "870          871         0       3   \n",
      "871          872         1       1   \n",
      "872          873         0       1   \n",
      "873          874         0       3   \n",
      "874          875         1       2   \n",
      "875          876         1       3   \n",
      "876          877         0       3   \n",
      "877          878         0       3   \n",
      "878          879         0       3   \n",
      "879          880         1       1   \n",
      "880          881         1       2   \n",
      "881          882         0       3   \n",
      "882          883         0       3   \n",
      "883          884         0       2   \n",
      "884          885         0       3   \n",
      "885          886         0       3   \n",
      "886          887         0       2   \n",
      "887          888         1       1   \n",
      "888          889         0       3   \n",
      "889          890         1       1   \n",
      "890          891         0       3   \n",
      "\n",
      "                                                  Name     Sex        Age  \\\n",
      "0                              Braund, Mr. Owen Harris    male  22.000000   \n",
      "1    Cumings, Mrs. John Bradley (Florence Briggs Th...  female  38.000000   \n",
      "2                               Heikkinen, Miss. Laina  female  26.000000   \n",
      "3         Futrelle, Mrs. Jacques Heath (Lily May Peel)  female  35.000000   \n",
      "4                             Allen, Mr. William Henry    male  35.000000   \n",
      "5                                     Moran, Mr. James    male  29.699118   \n",
      "6                              McCarthy, Mr. Timothy J    male  54.000000   \n",
      "7                       Palsson, Master. Gosta Leonard    male   2.000000   \n",
      "8    Johnson, Mrs. Oscar W (Elisabeth Vilhelmina Berg)  female  27.000000   \n",
      "9                  Nasser, Mrs. Nicholas (Adele Achem)  female  14.000000   \n",
      "10                     Sandstrom, Miss. Marguerite Rut  female   4.000000   \n",
      "11                            Bonnell, Miss. Elizabeth  female  58.000000   \n",
      "12                      Saundercock, Mr. William Henry    male  20.000000   \n",
      "13                         Andersson, Mr. Anders Johan    male  39.000000   \n",
      "14                Vestrom, Miss. Hulda Amanda Adolfina  female  14.000000   \n",
      "15                    Hewlett, Mrs. (Mary D Kingcome)   female  55.000000   \n",
      "16                                Rice, Master. Eugene    male   2.000000   \n",
      "17                        Williams, Mr. Charles Eugene    male  29.699118   \n",
      "18   Vander Planke, Mrs. Julius (Emelia Maria Vande...  female  31.000000   \n",
      "19                             Masselmani, Mrs. Fatima  female  29.699118   \n",
      "20                                Fynney, Mr. Joseph J    male  35.000000   \n",
      "21                               Beesley, Mr. Lawrence    male  34.000000   \n",
      "22                         McGowan, Miss. Anna \"Annie\"  female  15.000000   \n",
      "23                        Sloper, Mr. William Thompson    male  28.000000   \n",
      "24                       Palsson, Miss. Torborg Danira  female   8.000000   \n",
      "25   Asplund, Mrs. Carl Oscar (Selma Augusta Emilia...  female  38.000000   \n",
      "26                             Emir, Mr. Farred Chehab    male  29.699118   \n",
      "27                      Fortune, Mr. Charles Alexander    male  19.000000   \n",
      "28                       O'Dwyer, Miss. Ellen \"Nellie\"  female  29.699118   \n",
      "29                                 Todoroff, Mr. Lalio    male  29.699118   \n",
      "..                                                 ...     ...        ...   \n",
      "861                        Giles, Mr. Frederick Edward    male  21.000000   \n",
      "862  Swift, Mrs. Frederick Joel (Margaret Welles Ba...  female  48.000000   \n",
      "863                  Sage, Miss. Dorothy Edith \"Dolly\"  female  29.699118   \n",
      "864                             Gill, Mr. John William    male  24.000000   \n",
      "865                           Bystrom, Mrs. (Karolina)  female  42.000000   \n",
      "866                       Duran y More, Miss. Asuncion  female  27.000000   \n",
      "867               Roebling, Mr. Washington Augustus II    male  31.000000   \n",
      "868                        van Melkebeke, Mr. Philemon    male  29.699118   \n",
      "869                    Johnson, Master. Harold Theodor    male   4.000000   \n",
      "870                                  Balkic, Mr. Cerin    male  26.000000   \n",
      "871   Beckwith, Mrs. Richard Leonard (Sallie Monypeny)  female  47.000000   \n",
      "872                           Carlsson, Mr. Frans Olof    male  33.000000   \n",
      "873                        Vander Cruyssen, Mr. Victor    male  47.000000   \n",
      "874              Abelson, Mrs. Samuel (Hannah Wizosky)  female  28.000000   \n",
      "875                   Najib, Miss. Adele Kiamie \"Jane\"  female  15.000000   \n",
      "876                      Gustafsson, Mr. Alfred Ossian    male  20.000000   \n",
      "877                               Petroff, Mr. Nedelio    male  19.000000   \n",
      "878                                 Laleff, Mr. Kristo    male  29.699118   \n",
      "879      Potter, Mrs. Thomas Jr (Lily Alexenia Wilson)  female  56.000000   \n",
      "880       Shelley, Mrs. William (Imanita Parrish Hall)  female  25.000000   \n",
      "881                                 Markun, Mr. Johann    male  33.000000   \n",
      "882                       Dahlberg, Miss. Gerda Ulrika  female  22.000000   \n",
      "883                      Banfield, Mr. Frederick James    male  28.000000   \n",
      "884                             Sutehall, Mr. Henry Jr    male  25.000000   \n",
      "885               Rice, Mrs. William (Margaret Norton)  female  39.000000   \n",
      "886                              Montvila, Rev. Juozas    male  27.000000   \n",
      "887                       Graham, Miss. Margaret Edith  female  19.000000   \n",
      "888           Johnston, Miss. Catherine Helen \"Carrie\"  female  29.699118   \n",
      "889                              Behr, Mr. Karl Howell    male  26.000000   \n",
      "890                                Dooley, Mr. Patrick    male  32.000000   \n",
      "\n",
      "     SibSp  Parch      Fare Embarked  \n",
      "0        1      0    7.2500        S  \n",
      "1        1      0   71.2833        C  \n",
      "2        0      0    7.9250        S  \n",
      "3        1      0   53.1000        S  \n",
      "4        0      0    8.0500        S  \n",
      "5        0      0    8.4583        Q  \n",
      "6        0      0   51.8625        S  \n",
      "7        3      1   21.0750        S  \n",
      "8        0      2   11.1333        S  \n",
      "9        1      0   30.0708        C  \n",
      "10       1      1   16.7000        S  \n",
      "11       0      0   26.5500        S  \n",
      "12       0      0    8.0500        S  \n",
      "13       1      5   31.2750        S  \n",
      "14       0      0    7.8542        S  \n",
      "15       0      0   16.0000        S  \n",
      "16       4      1   29.1250        Q  \n",
      "17       0      0   13.0000        S  \n",
      "18       1      0   18.0000        S  \n",
      "19       0      0    7.2250        C  \n",
      "20       0      0   26.0000        S  \n",
      "21       0      0   13.0000        S  \n",
      "22       0      0    8.0292        Q  \n",
      "23       0      0   35.5000        S  \n",
      "24       3      1   21.0750        S  \n",
      "25       1      5   31.3875        S  \n",
      "26       0      0    7.2250        C  \n",
      "27       3      2  263.0000        S  \n",
      "28       0      0    7.8792        Q  \n",
      "29       0      0    7.8958        S  \n",
      "..     ...    ...       ...      ...  \n",
      "861      1      0   11.5000        S  \n",
      "862      0      0   25.9292        S  \n",
      "863      8      2   69.5500        S  \n",
      "864      0      0   13.0000        S  \n",
      "865      0      0   13.0000        S  \n",
      "866      1      0   13.8583        C  \n",
      "867      0      0   50.4958        S  \n",
      "868      0      0    9.5000        S  \n",
      "869      1      1   11.1333        S  \n",
      "870      0      0    7.8958        S  \n",
      "871      1      1   52.5542        S  \n",
      "872      0      0    5.0000        S  \n",
      "873      0      0    9.0000        S  \n",
      "874      1      0   24.0000        C  \n",
      "875      0      0    7.2250        C  \n",
      "876      0      0    9.8458        S  \n",
      "877      0      0    7.8958        S  \n",
      "878      0      0    7.8958        S  \n",
      "879      0      1   83.1583        C  \n",
      "880      0      1   26.0000        S  \n",
      "881      0      0    7.8958        S  \n",
      "882      0      0   10.5167        S  \n",
      "883      0      0   10.5000        S  \n",
      "884      0      0    7.0500        S  \n",
      "885      0      5   29.1250        Q  \n",
      "886      0      0   13.0000        S  \n",
      "887      0      0   30.0000        S  \n",
      "888      1      2   23.4500        S  \n",
      "889      0      0   30.0000        C  \n",
      "890      0      0    7.7500        Q  \n",
      "\n",
      "[891 rows x 10 columns]\n"
     ]
    }
   ],
   "source": [
    "#cleaning fare column\n",
    "train.Fare = train.Fare.map(lambda x: np.nan if x==0 else x)\n",
    "classmeans = train.pivot_table('Fare', index='Pclass', aggfunc='mean')\n",
    "train.Fare = train[['Fare', 'Pclass']].apply(lambda x: classmeans[x['Pclass']] if pd.isnull(x['Fare']) else x['Fare'], axis=1 )\n",
    "    \n",
    "#cleaning the age column\n",
    "meanAge=np.mean(train.Age)\n",
    "train.Age=train.Age.fillna(meanAge)\n",
    "\n",
    "print train"
   ]
  },
  {
   "cell_type": "code",
   "execution_count": 57,
   "metadata": {
    "collapsed": false
   },
   "outputs": [
    {
     "data": {
      "text/plain": [
       "(891, 10)"
      ]
     },
     "execution_count": 57,
     "metadata": {},
     "output_type": "execute_result"
    }
   ],
   "source": [
    "train.shape"
   ]
  },
  {
   "cell_type": "code",
   "execution_count": 58,
   "metadata": {
    "collapsed": false
   },
   "outputs": [
    {
     "data": {
      "text/plain": [
       "(889, 10)"
      ]
     },
     "execution_count": 58,
     "metadata": {},
     "output_type": "execute_result"
    }
   ],
   "source": [
    "train = train.dropna()\n",
    "train.shape"
   ]
  },
  {
   "cell_type": "code",
   "execution_count": 8,
   "metadata": {
    "collapsed": false
   },
   "outputs": [
    {
     "name": "stdout",
     "output_type": "stream",
     "text": [
      "0    549\n",
      "1    342\n",
      "Name: Survived, dtype: int64\n"
     ]
    }
   ],
   "source": [
    "# Passengers that survived vs passengers that passed away\n",
    "print(train.Survived.value_counts())\n"
   ]
  },
  {
   "cell_type": "code",
   "execution_count": 66,
   "metadata": {
    "collapsed": false
   },
   "outputs": [
    {
     "name": "stdout",
     "output_type": "stream",
     "text": [
      "0    54\n",
      "1    41\n",
      "Name: Survived, dtype: int64\n"
     ]
    }
   ],
   "source": [
    "# Males that survived vs males that passed away\n",
    "print(train[\"Survived\"][train[\"Sex\"] == 'male'].value_counts())\n"
   ]
  },
  {
   "cell_type": "code",
   "execution_count": 67,
   "metadata": {
    "collapsed": false
   },
   "outputs": [
    {
     "name": "stdout",
     "output_type": "stream",
     "text": [
      "0    0.568421\n",
      "1    0.431579\n",
      "Name: Survived, dtype: float64\n"
     ]
    }
   ],
   "source": [
    "# Normalized male survival\n",
    "print(train[\"Survived\"][train[\"Sex\"] == 'male'].value_counts(normalize = True))\n"
   ]
  },
  {
   "cell_type": "code",
   "execution_count": 68,
   "metadata": {
    "collapsed": false
   },
   "outputs": [
    {
     "name": "stdout",
     "output_type": "stream",
     "text": [
      "1    82\n",
      "0     6\n",
      "Name: Survived, dtype: int64\n"
     ]
    }
   ],
   "source": [
    "# Females that survived vs Females that passed away\n",
    "print(train[\"Survived\"][train[\"Sex\"] == 'female'].value_counts())\n"
   ]
  },
  {
   "cell_type": "code",
   "execution_count": 69,
   "metadata": {
    "collapsed": false
   },
   "outputs": [
    {
     "name": "stdout",
     "output_type": "stream",
     "text": [
      "1    0.931818\n",
      "0    0.068182\n",
      "Name: Survived, dtype: float64\n"
     ]
    }
   ],
   "source": [
    "# Normalized female survival\n",
    "print(train[\"Survived\"][train[\"Sex\"] == 'female'].value_counts(normalize = True))\n"
   ]
  },
  {
   "cell_type": "code",
   "execution_count": 70,
   "metadata": {
    "collapsed": false
   },
   "outputs": [],
   "source": [
    "# Create the column Child and assign to 'NaN'\n",
    "train[\"Child\"] = float('NaN')\n",
    "#print(train[\"Child\"])"
   ]
  },
  {
   "cell_type": "code",
   "execution_count": 71,
   "metadata": {
    "collapsed": false
   },
   "outputs": [
    {
     "name": "stdout",
     "output_type": "stream",
     "text": [
      "1      0.0\n",
      "3      0.0\n",
      "6      0.0\n",
      "10     1.0\n",
      "11     0.0\n",
      "21     0.0\n",
      "23     0.0\n",
      "27     0.0\n",
      "52     0.0\n",
      "54     0.0\n",
      "62     0.0\n",
      "66     0.0\n",
      "75     0.0\n",
      "88     0.0\n",
      "92     0.0\n",
      "96     0.0\n",
      "97     0.0\n",
      "102    0.0\n",
      "110    0.0\n",
      "118    0.0\n",
      "123    0.0\n",
      "124    0.0\n",
      "136    0.0\n",
      "137    0.0\n",
      "139    0.0\n",
      "148    0.0\n",
      "151    0.0\n",
      "170    0.0\n",
      "174    0.0\n",
      "177    0.0\n",
      "      ... \n",
      "737    0.0\n",
      "741    0.0\n",
      "742    0.0\n",
      "745    0.0\n",
      "748    0.0\n",
      "751    1.0\n",
      "759    0.0\n",
      "763    0.0\n",
      "765    0.0\n",
      "772    0.0\n",
      "779    0.0\n",
      "781    1.0\n",
      "782    0.0\n",
      "789    0.0\n",
      "796    0.0\n",
      "802    1.0\n",
      "806    0.0\n",
      "809    0.0\n",
      "820    0.0\n",
      "823    0.0\n",
      "835    0.0\n",
      "853    1.0\n",
      "857    0.0\n",
      "862    0.0\n",
      "867    0.0\n",
      "871    0.0\n",
      "872    0.0\n",
      "879    0.0\n",
      "887    0.0\n",
      "889    0.0\n",
      "Name: Child, dtype: float64\n"
     ]
    },
    {
     "name": "stderr",
     "output_type": "stream",
     "text": [
      "C:\\Users\\ronald_haynes\\AppData\\Local\\Continuum\\Anaconda2\\lib\\site-packages\\ipykernel\\__main__.py:2: SettingWithCopyWarning: \n",
      "A value is trying to be set on a copy of a slice from a DataFrame\n",
      "\n",
      "See the caveats in the documentation: http://pandas.pydata.org/pandas-docs/stable/indexing.html#indexing-view-versus-copy\n",
      "  from ipykernel import kernelapp as app\n",
      "C:\\Users\\ronald_haynes\\AppData\\Local\\Continuum\\Anaconda2\\lib\\site-packages\\ipykernel\\__main__.py:3: SettingWithCopyWarning: \n",
      "A value is trying to be set on a copy of a slice from a DataFrame\n",
      "\n",
      "See the caveats in the documentation: http://pandas.pydata.org/pandas-docs/stable/indexing.html#indexing-view-versus-copy\n",
      "  app.launch_new_instance()\n"
     ]
    }
   ],
   "source": [
    "# Assign 1 to passengers under 18, 0 to those 18 or older. Print the new column.\n",
    "train[\"Child\"][train[\"Age\"] < 18] = 1\n",
    "train[\"Child\"][train[\"Age\"] >= 18] = 0\n",
    "print(train[\"Child\"])"
   ]
  },
  {
   "cell_type": "code",
   "execution_count": 72,
   "metadata": {
    "collapsed": false
   },
   "outputs": [
    {
     "name": "stdout",
     "output_type": "stream",
     "text": [
      "1    0.894737\n",
      "0    0.105263\n",
      "Name: Survived, dtype: float64\n"
     ]
    }
   ],
   "source": [
    "# Print normalized Survival Rates for passengers under 18\n",
    "print(train[\"Survived\"][train[\"Child\"] == 1].value_counts(normalize = True))"
   ]
  },
  {
   "cell_type": "code",
   "execution_count": 74,
   "metadata": {
    "collapsed": false
   },
   "outputs": [
    {
     "name": "stdout",
     "output_type": "stream",
     "text": [
      "     PassengerId  Survived  Pclass  \\\n",
      "1              2         1       1   \n",
      "3              4         1       1   \n",
      "6              7         0       1   \n",
      "10            11         1       3   \n",
      "11            12         1       1   \n",
      "21            22         1       2   \n",
      "23            24         1       1   \n",
      "27            28         0       1   \n",
      "52            53         1       1   \n",
      "54            55         0       1   \n",
      "62            63         0       1   \n",
      "66            67         1       2   \n",
      "75            76         0       3   \n",
      "88            89         1       1   \n",
      "92            93         0       1   \n",
      "96            97         0       1   \n",
      "97            98         1       1   \n",
      "102          103         0       1   \n",
      "110          111         0       1   \n",
      "118          119         0       1   \n",
      "123          124         1       2   \n",
      "124          125         0       1   \n",
      "136          137         1       1   \n",
      "137          138         0       1   \n",
      "139          140         0       1   \n",
      "148          149         0       2   \n",
      "151          152         1       1   \n",
      "170          171         0       1   \n",
      "174          175         0       1   \n",
      "177          178         0       1   \n",
      "..           ...       ...     ...   \n",
      "737          738         1       1   \n",
      "741          742         0       1   \n",
      "742          743         1       1   \n",
      "745          746         0       1   \n",
      "748          749         0       1   \n",
      "751          752         1       3   \n",
      "759          760         1       1   \n",
      "763          764         1       1   \n",
      "765          766         1       1   \n",
      "772          773         0       2   \n",
      "779          780         1       1   \n",
      "781          782         1       1   \n",
      "782          783         0       1   \n",
      "789          790         0       1   \n",
      "796          797         1       1   \n",
      "802          803         1       1   \n",
      "806          807         0       1   \n",
      "809          810         1       1   \n",
      "820          821         1       1   \n",
      "823          824         1       3   \n",
      "835          836         1       1   \n",
      "853          854         1       1   \n",
      "857          858         1       1   \n",
      "862          863         1       1   \n",
      "867          868         0       1   \n",
      "871          872         1       1   \n",
      "872          873         0       1   \n",
      "879          880         1       1   \n",
      "887          888         1       1   \n",
      "889          890         1       1   \n",
      "\n",
      "                                                  Name Sex   Age  SibSp  \\\n",
      "1    Cumings, Mrs. John Bradley (Florence Briggs Th...   1  38.0      1   \n",
      "3         Futrelle, Mrs. Jacques Heath (Lily May Peel)   1  35.0      1   \n",
      "6                              McCarthy, Mr. Timothy J   0  54.0      0   \n",
      "10                     Sandstrom, Miss. Marguerite Rut   1   4.0      1   \n",
      "11                            Bonnell, Miss. Elizabeth   1  58.0      0   \n",
      "21                               Beesley, Mr. Lawrence   0  34.0      0   \n",
      "23                        Sloper, Mr. William Thompson   0  28.0      0   \n",
      "27                      Fortune, Mr. Charles Alexander   0  19.0      3   \n",
      "52            Harper, Mrs. Henry Sleeper (Myna Haxtun)   1  49.0      1   \n",
      "54                      Ostby, Mr. Engelhart Cornelius   0  65.0      0   \n",
      "62                         Harris, Mr. Henry Birkhardt   0  45.0      1   \n",
      "66                        Nye, Mrs. (Elizabeth Ramell)   1  29.0      0   \n",
      "75                             Moen, Mr. Sigurd Hansen   0  25.0      0   \n",
      "88                          Fortune, Miss. Mabel Helen   1  23.0      3   \n",
      "92                         Chaffee, Mr. Herbert Fuller   0  46.0      1   \n",
      "96                           Goldschmidt, Mr. George B   0  71.0      0   \n",
      "97                     Greenfield, Mr. William Bertram   0  23.0      0   \n",
      "102                          White, Mr. Richard Frasar   0  21.0      0   \n",
      "110                     Porter, Mr. Walter Chamberlain   0  47.0      0   \n",
      "118                           Baxter, Mr. Quigg Edmond   0  24.0      0   \n",
      "123                                Webber, Miss. Susan   1  32.5      0   \n",
      "124                        White, Mr. Percival Wayland   0  54.0      0   \n",
      "136                       Newsom, Miss. Helen Monypeny   1  19.0      0   \n",
      "137                        Futrelle, Mr. Jacques Heath   0  37.0      1   \n",
      "139                                 Giglio, Mr. Victor   0  24.0      0   \n",
      "148           Navratil, Mr. Michel (\"Louis M Hoffman\")   0  36.5      0   \n",
      "151                  Pears, Mrs. Thomas (Edith Wearne)   1  22.0      1   \n",
      "170                          Van der hoef, Mr. Wyckoff   0  61.0      0   \n",
      "174                            Smith, Mr. James Clinch   0  56.0      0   \n",
      "177                         Isham, Miss. Ann Elizabeth   1  50.0      0   \n",
      "..                                                 ...  ..   ...    ...   \n",
      "737                             Lesurer, Mr. Gustave J   0  35.0      0   \n",
      "741                      Cavendish, Mr. Tyrell William   0  36.0      1   \n",
      "742              Ryerson, Miss. Susan Parker \"Suzette\"   1  21.0      2   \n",
      "745                       Crosby, Capt. Edward Gifford   0  70.0      1   \n",
      "748                          Marvin, Mr. Daniel Warner   0  19.0      1   \n",
      "751                                Moor, Master. Meier   0   6.0      0   \n",
      "759  Rothes, the Countess. of (Lucy Noel Martha Dye...   1  33.0      0   \n",
      "763          Carter, Mrs. William Ernest (Lucile Polk)   1  36.0      1   \n",
      "765               Hogeboom, Mrs. John C (Anna Andrews)   1  51.0      1   \n",
      "772                                  Mack, Mrs. (Mary)   1  57.0      0   \n",
      "779  Robert, Mrs. Edward Scott (Elisabeth Walton Mc...   1  43.0      0   \n",
      "781          Dick, Mrs. Albert Adrian (Vera Gillespie)   1  17.0      1   \n",
      "782                             Long, Mr. Milton Clyde   0  29.0      0   \n",
      "789                           Guggenheim, Mr. Benjamin   0  46.0      0   \n",
      "796                        Leader, Dr. Alice (Farnham)   1  49.0      0   \n",
      "802                Carter, Master. William Thornton II   0  11.0      1   \n",
      "806                             Andrews, Mr. Thomas Jr   0  39.0      0   \n",
      "809     Chambers, Mrs. Norman Campbell (Bertha Griggs)   1  33.0      1   \n",
      "820  Hays, Mrs. Charles Melville (Clara Jennings Gr...   1  52.0      1   \n",
      "823                                 Moor, Mrs. (Beila)   1  27.0      0   \n",
      "835                        Compton, Miss. Sara Rebecca   1  39.0      1   \n",
      "853                          Lines, Miss. Mary Conover   1  16.0      0   \n",
      "857                             Daly, Mr. Peter Denis    0  51.0      0   \n",
      "862  Swift, Mrs. Frederick Joel (Margaret Welles Ba...   1  48.0      0   \n",
      "867               Roebling, Mr. Washington Augustus II   0  31.0      0   \n",
      "871   Beckwith, Mrs. Richard Leonard (Sallie Monypeny)   1  47.0      1   \n",
      "872                           Carlsson, Mr. Frans Olof   0  33.0      0   \n",
      "879      Potter, Mrs. Thomas Jr (Lily Alexenia Wilson)   1  56.0      0   \n",
      "887                       Graham, Miss. Margaret Edith   1  19.0      0   \n",
      "889                              Behr, Mr. Karl Howell   0  26.0      0   \n",
      "\n",
      "     Parch       Ticket      Fare            Cabin Embarked  Child  \n",
      "1        0     PC 17599   71.2833              C85        C    0.0  \n",
      "3        0       113803   53.1000             C123        S    0.0  \n",
      "6        0        17463   51.8625              E46        S    0.0  \n",
      "10       1      PP 9549   16.7000               G6        S    1.0  \n",
      "11       0       113783   26.5500             C103        S    0.0  \n",
      "21       0       248698   13.0000              D56        S    0.0  \n",
      "23       0       113788   35.5000               A6        S    0.0  \n",
      "27       2        19950  263.0000      C23 C25 C27        S    0.0  \n",
      "52       0     PC 17572   76.7292              D33        C    0.0  \n",
      "54       1       113509   61.9792              B30        C    0.0  \n",
      "62       0        36973   83.4750              C83        S    0.0  \n",
      "66       0   C.A. 29395   10.5000              F33        S    0.0  \n",
      "75       0       348123    7.6500            F G73        S    0.0  \n",
      "88       2        19950  263.0000      C23 C25 C27        S    0.0  \n",
      "92       0  W.E.P. 5734   61.1750              E31        S    0.0  \n",
      "96       0     PC 17754   34.6542               A5        C    0.0  \n",
      "97       1     PC 17759   63.3583          D10 D12        C    0.0  \n",
      "102      1        35281   77.2875              D26        S    0.0  \n",
      "110      0       110465   52.0000             C110        S    0.0  \n",
      "118      1     PC 17558  247.5208          B58 B60        C    0.0  \n",
      "123      0        27267   13.0000             E101        S    0.0  \n",
      "124      1        35281   77.2875              D26        S    0.0  \n",
      "136      2        11752   26.2833              D47        S    0.0  \n",
      "137      0       113803   53.1000             C123        S    0.0  \n",
      "139      0     PC 17593   79.2000              B86        C    0.0  \n",
      "148      2       230080   26.0000               F2        S    0.0  \n",
      "151      0       113776   66.6000               C2        S    0.0  \n",
      "170      0       111240   33.5000              B19        S    0.0  \n",
      "174      0        17764   30.6958               A7        C    0.0  \n",
      "177      0     PC 17595   28.7125              C49        C    0.0  \n",
      "..     ...          ...       ...              ...      ...    ...  \n",
      "737      0     PC 17755  512.3292             B101        C    0.0  \n",
      "741      0        19877   78.8500              C46        S    0.0  \n",
      "742      2     PC 17608  262.3750  B57 B59 B63 B66        C    0.0  \n",
      "745      1    WE/P 5735   71.0000              B22        S    0.0  \n",
      "748      0       113773   53.1000              D30        S    0.0  \n",
      "751      1       392096   12.4750             E121        S    1.0  \n",
      "759      0       110152   86.5000              B77        S    0.0  \n",
      "763      2       113760  120.0000          B96 B98        S    0.0  \n",
      "765      0        13502   77.9583              D11        S    0.0  \n",
      "772      0  S.O./P.P. 3   10.5000              E77        S    0.0  \n",
      "779      1        24160  211.3375               B3        S    0.0  \n",
      "781      0        17474   57.0000              B20        S    1.0  \n",
      "782      0       113501   30.0000               D6        S    0.0  \n",
      "789      0     PC 17593   79.2000          B82 B84        C    0.0  \n",
      "796      0        17465   25.9292              D17        S    0.0  \n",
      "802      2       113760  120.0000          B96 B98        S    1.0  \n",
      "806      0       112050    0.0000              A36        S    0.0  \n",
      "809      0       113806   53.1000               E8        S    0.0  \n",
      "820      1        12749   93.5000              B69        S    0.0  \n",
      "823      1       392096   12.4750             E121        S    0.0  \n",
      "835      1     PC 17756   83.1583              E49        C    0.0  \n",
      "853      1     PC 17592   39.4000              D28        S    1.0  \n",
      "857      0       113055   26.5500              E17        S    0.0  \n",
      "862      0        17466   25.9292              D17        S    0.0  \n",
      "867      0     PC 17590   50.4958              A24        S    0.0  \n",
      "871      1        11751   52.5542              D35        S    0.0  \n",
      "872      0          695    5.0000      B51 B53 B55        S    0.0  \n",
      "879      1        11767   83.1583              C50        C    0.0  \n",
      "887      0       112053   30.0000              B42        S    0.0  \n",
      "889      0       111369   30.0000             C148        C    0.0  \n",
      "\n",
      "[183 rows x 13 columns]\n"
     ]
    },
    {
     "name": "stderr",
     "output_type": "stream",
     "text": [
      "C:\\Users\\ronald_haynes\\AppData\\Local\\Continuum\\Anaconda2\\lib\\site-packages\\ipykernel\\__main__.py:2: SettingWithCopyWarning: \n",
      "A value is trying to be set on a copy of a slice from a DataFrame\n",
      "\n",
      "See the caveats in the documentation: http://pandas.pydata.org/pandas-docs/stable/indexing.html#indexing-view-versus-copy\n",
      "  from ipykernel import kernelapp as app\n",
      "C:\\Users\\ronald_haynes\\AppData\\Local\\Continuum\\Anaconda2\\lib\\site-packages\\ipykernel\\__main__.py:3: SettingWithCopyWarning: \n",
      "A value is trying to be set on a copy of a slice from a DataFrame\n",
      "\n",
      "See the caveats in the documentation: http://pandas.pydata.org/pandas-docs/stable/indexing.html#indexing-view-versus-copy\n",
      "  app.launch_new_instance()\n"
     ]
    }
   ],
   "source": [
    "# Convert the male and female groups to integer form\n",
    "train[\"Sex\"][train[\"Sex\"] == \"male\"] = 0\n",
    "train[\"Sex\"][train[\"Sex\"] == \"female\"] = 1\n",
    "#print train"
   ]
  },
  {
   "cell_type": "code",
   "execution_count": 75,
   "metadata": {
    "collapsed": false
   },
   "outputs": [
    {
     "name": "stdout",
     "output_type": "stream",
     "text": [
      "1      1\n",
      "3      1\n",
      "6      0\n",
      "10     1\n",
      "11     1\n",
      "21     0\n",
      "23     0\n",
      "27     0\n",
      "52     1\n",
      "54     0\n",
      "62     0\n",
      "66     1\n",
      "75     0\n",
      "88     1\n",
      "92     0\n",
      "96     0\n",
      "97     0\n",
      "102    0\n",
      "110    0\n",
      "118    0\n",
      "123    1\n",
      "124    0\n",
      "136    1\n",
      "137    0\n",
      "139    0\n",
      "148    0\n",
      "151    1\n",
      "170    0\n",
      "174    0\n",
      "177    1\n",
      "      ..\n",
      "737    0\n",
      "741    0\n",
      "742    1\n",
      "745    0\n",
      "748    0\n",
      "751    0\n",
      "759    1\n",
      "763    1\n",
      "765    1\n",
      "772    1\n",
      "779    1\n",
      "781    1\n",
      "782    0\n",
      "789    0\n",
      "796    1\n",
      "802    0\n",
      "806    0\n",
      "809    1\n",
      "820    1\n",
      "823    1\n",
      "835    1\n",
      "853    1\n",
      "857    0\n",
      "862    1\n",
      "867    0\n",
      "871    1\n",
      "872    0\n",
      "879    1\n",
      "887    1\n",
      "889    0\n",
      "Name: Sex, dtype: object\n",
      "1      1\n",
      "3      0\n",
      "6      0\n",
      "10     0\n",
      "11     0\n",
      "21     0\n",
      "23     0\n",
      "27     0\n",
      "52     1\n",
      "54     1\n",
      "62     0\n",
      "66     0\n",
      "75     0\n",
      "88     0\n",
      "92     0\n",
      "96     1\n",
      "97     1\n",
      "102    0\n",
      "110    0\n",
      "118    1\n",
      "123    0\n",
      "124    0\n",
      "136    0\n",
      "137    0\n",
      "139    1\n",
      "148    0\n",
      "151    0\n",
      "170    0\n",
      "174    1\n",
      "177    1\n",
      "      ..\n",
      "737    1\n",
      "741    0\n",
      "742    1\n",
      "745    0\n",
      "748    0\n",
      "751    0\n",
      "759    0\n",
      "763    0\n",
      "765    0\n",
      "772    0\n",
      "779    0\n",
      "781    0\n",
      "782    0\n",
      "789    1\n",
      "796    0\n",
      "802    0\n",
      "806    0\n",
      "809    0\n",
      "820    0\n",
      "823    0\n",
      "835    1\n",
      "853    0\n",
      "857    0\n",
      "862    0\n",
      "867    0\n",
      "871    0\n",
      "872    0\n",
      "879    1\n",
      "887    0\n",
      "889    1\n",
      "Name: Embarked, dtype: object\n"
     ]
    },
    {
     "name": "stderr",
     "output_type": "stream",
     "text": [
      "C:\\Users\\ronald_haynes\\AppData\\Local\\Continuum\\Anaconda2\\lib\\site-packages\\ipykernel\\__main__.py:5: SettingWithCopyWarning: \n",
      "A value is trying to be set on a copy of a slice from a DataFrame\n",
      "\n",
      "See the caveats in the documentation: http://pandas.pydata.org/pandas-docs/stable/indexing.html#indexing-view-versus-copy\n",
      "C:\\Users\\ronald_haynes\\AppData\\Local\\Continuum\\Anaconda2\\lib\\site-packages\\ipykernel\\__main__.py:6: SettingWithCopyWarning: \n",
      "A value is trying to be set on a copy of a slice from a DataFrame\n",
      "\n",
      "See the caveats in the documentation: http://pandas.pydata.org/pandas-docs/stable/indexing.html#indexing-view-versus-copy\n",
      "C:\\Users\\ronald_haynes\\AppData\\Local\\Continuum\\Anaconda2\\lib\\site-packages\\ipykernel\\__main__.py:7: SettingWithCopyWarning: \n",
      "A value is trying to be set on a copy of a slice from a DataFrame\n",
      "\n",
      "See the caveats in the documentation: http://pandas.pydata.org/pandas-docs/stable/indexing.html#indexing-view-versus-copy\n"
     ]
    }
   ],
   "source": [
    "# Impute the Embarked variable\n",
    "train[\"Embarked\"] = train[\"Embarked\"].fillna(\"S\")\n",
    "\n",
    "# Convert the Embarked classes to integer form\n",
    "train[\"Embarked\"][train[\"Embarked\"] == \"S\"] = 0\n",
    "train[\"Embarked\"][train[\"Embarked\"] == \"C\"] = 1\n",
    "train[\"Embarked\"][train[\"Embarked\"] == \"Q\"] = 2\n",
    "\n",
    "# Print the Sex and Embarked columns\n",
    "print(train[\"Sex\"])\n",
    "print(train[\"Embarked\"])\n",
    "\n"
   ]
  },
  {
   "cell_type": "code",
   "execution_count": 77,
   "metadata": {
    "collapsed": false
   },
   "outputs": [],
   "source": [
    "# Create the target and features numpy arrays: target, features_one\n",
    "target = train[\"Survived\"].values\n",
    "features_one = train[[\"Pclass\", \"Sex\", \"Age\", \"Fare\"]].values\n"
   ]
  },
  {
   "cell_type": "code",
   "execution_count": 78,
   "metadata": {
    "collapsed": false
   },
   "outputs": [
    {
     "name": "stdout",
     "output_type": "stream",
     "text": [
      "[[1L 1 38.0 71.2833]\n",
      " [1L 1 35.0 53.1]\n",
      " [1L 0 54.0 51.8625]\n",
      " [3L 1 4.0 16.7]\n",
      " [1L 1 58.0 26.55]\n",
      " [2L 0 34.0 13.0]\n",
      " [1L 0 28.0 35.5]\n",
      " [1L 0 19.0 263.0]\n",
      " [1L 1 49.0 76.7292]\n",
      " [1L 0 65.0 61.9792]\n",
      " [1L 0 45.0 83.475]\n",
      " [2L 1 29.0 10.5]\n",
      " [3L 0 25.0 7.65]\n",
      " [1L 1 23.0 263.0]\n",
      " [1L 0 46.0 61.175]\n",
      " [1L 0 71.0 34.6542]\n",
      " [1L 0 23.0 63.3583]\n",
      " [1L 0 21.0 77.2875]\n",
      " [1L 0 47.0 52.0]\n",
      " [1L 0 24.0 247.5208]\n",
      " [2L 1 32.5 13.0]\n",
      " [1L 0 54.0 77.2875]\n",
      " [1L 1 19.0 26.2833]\n",
      " [1L 0 37.0 53.1]\n",
      " [1L 0 24.0 79.2]\n",
      " [2L 0 36.5 26.0]\n",
      " [1L 1 22.0 66.6]\n",
      " [1L 0 61.0 33.5]\n",
      " [1L 0 56.0 30.6958]\n",
      " [1L 1 50.0 28.7125]\n",
      " [2L 0 1.0 39.0]\n",
      " [2L 0 3.0 26.0]\n",
      " [1L 1 44.0 27.7208]\n",
      " [1L 1 58.0 146.5208]\n",
      " [3L 1 2.0 10.4625]\n",
      " [1L 0 40.0 31.0]\n",
      " [1L 1 31.0 113.275]\n",
      " [1L 1 32.0 76.2917]\n",
      " [1L 0 38.0 90.0]\n",
      " [1L 1 35.0 83.475]\n",
      " [1L 0 44.0 90.0]\n",
      " [1L 0 37.0 52.5542]\n",
      " [3L 1 29.0 10.4625]\n",
      " [1L 0 62.0 26.55]\n",
      " [1L 1 30.0 86.5]\n",
      " [1L 0 52.0 79.65]\n",
      " [1L 0 40.0 0.0]\n",
      " [1L 1 58.0 153.4625]\n",
      " [1L 1 35.0 135.6333]\n",
      " [1L 0 37.0 29.7]\n",
      " [1L 1 63.0 77.9583]\n",
      " [1L 1 19.0 91.0792]\n",
      " [2L 0 36.0 12.875]\n",
      " [1L 1 2.0 151.55]\n",
      " [1L 1 50.0 247.5208]\n",
      " [1L 0 0.92 151.55]\n",
      " [1L 1 17.0 108.9]\n",
      " [1L 1 30.0 56.9292]\n",
      " [1L 1 24.0 83.1583]\n",
      " [1L 1 18.0 262.375]\n",
      " [1L 1 31.0 164.8667]\n",
      " [1L 1 40.0 134.5]\n",
      " [1L 1 36.0 135.6333]\n",
      " [2L 1 36.0 13.0]\n",
      " [1L 1 16.0 57.9792]\n",
      " [1L 0 45.5 28.5]\n",
      " [1L 0 38.0 153.4625]\n",
      " [1L 0 29.0 66.6]\n",
      " [1L 1 41.0 134.5]\n",
      " [1L 0 45.0 35.5]\n",
      " [2L 0 2.0 26.0]\n",
      " [1L 1 24.0 263.0]\n",
      " [2L 1 24.0 13.0]\n",
      " [1L 1 22.0 55.0]\n",
      " [1L 1 60.0 75.25]\n",
      " [1L 1 24.0 69.3]\n",
      " [1L 0 25.0 55.4417]\n",
      " [1L 0 27.0 211.5]\n",
      " [1L 0 36.0 120.0]\n",
      " [1L 1 23.0 113.275]\n",
      " [3L 1 24.0 16.7]\n",
      " [1L 1 33.0 90.0]\n",
      " [3L 0 32.0 8.05]\n",
      " [1L 0 28.0 26.55]\n",
      " [1L 0 50.0 55.9]\n",
      " [1L 1 14.0 120.0]\n",
      " [1L 0 64.0 263.0]\n",
      " [1L 0 4.0 81.8583]\n",
      " [1L 0 52.0 30.5]\n",
      " [1L 0 30.0 27.75]\n",
      " [1L 0 49.0 89.1042]\n",
      " [1L 0 65.0 26.55]\n",
      " [1L 0 48.0 26.55]\n",
      " [1L 0 47.0 38.5]\n",
      " [2L 1 23.0 13.7917]\n",
      " [1L 0 25.0 91.0792]\n",
      " [1L 1 35.0 90.0]\n",
      " [1L 0 58.0 29.7]\n",
      " [1L 0 55.0 30.5]\n",
      " [1L 1 54.0 78.2667]\n",
      " [1L 1 25.0 151.55]\n",
      " [1L 1 16.0 86.5]\n",
      " [1L 0 18.0 108.9]\n",
      " [1L 0 36.0 26.2875]\n",
      " [1L 0 47.0 34.0208]\n",
      " [2L 1 34.0 10.5]\n",
      " [1L 1 30.0 93.5]\n",
      " [1L 1 44.0 57.9792]\n",
      " [1L 0 45.0 26.55]\n",
      " [1L 1 22.0 49.5]\n",
      " [1L 1 36.0 71.0]\n",
      " [1L 0 50.0 106.425]\n",
      " [1L 0 17.0 110.8833]\n",
      " [1L 1 48.0 39.6]\n",
      " [1L 1 39.0 79.65]\n",
      " [1L 1 53.0 51.4792]\n",
      " [1L 0 36.0 26.3875]\n",
      " [1L 1 39.0 55.9]\n",
      " [1L 1 39.0 110.8833]\n",
      " [1L 0 36.0 40.125]\n",
      " [1L 1 18.0 79.65]\n",
      " [1L 0 60.0 79.2]\n",
      " [1L 1 52.0 78.2667]\n",
      " [1L 0 49.0 56.9292]\n",
      " [1L 1 40.0 153.4625]\n",
      " [2L 1 4.0 39.0]\n",
      " [1L 0 42.0 52.5542]\n",
      " [1L 0 61.0 32.3208]\n",
      " [1L 1 21.0 77.9583]\n",
      " [1L 0 80.0 30.0]\n",
      " [1L 0 32.0 30.5]\n",
      " [1L 1 24.0 69.3]\n",
      " [1L 0 48.0 76.7292]\n",
      " [1L 0 56.0 35.5]\n",
      " [1L 0 58.0 113.275]\n",
      " [1L 0 47.0 25.5875]\n",
      " [1L 0 31.0 52.0]\n",
      " [1L 0 36.0 512.3292]\n",
      " [1L 0 27.0 76.7292]\n",
      " [1L 1 15.0 211.3375]\n",
      " [1L 0 31.0 57.0]\n",
      " [1L 0 49.0 110.8833]\n",
      " [3L 0 42.0 7.65]\n",
      " [1L 1 18.0 227.525]\n",
      " [1L 0 35.0 26.2875]\n",
      " [1L 0 42.0 26.2875]\n",
      " [1L 1 24.0 49.5042]\n",
      " [1L 0 48.0 52.0]\n",
      " [3L 0 19.0 7.65]\n",
      " [1L 1 38.0 227.525]\n",
      " [2L 1 27.0 10.5]\n",
      " [1L 0 27.0 53.1]\n",
      " [1L 1 29.0 211.3375]\n",
      " [1L 0 35.0 512.3292]\n",
      " [1L 0 36.0 78.85]\n",
      " [1L 1 21.0 262.375]\n",
      " [1L 0 70.0 71.0]\n",
      " [1L 0 19.0 53.1]\n",
      " [3L 0 6.0 12.475]\n",
      " [1L 1 33.0 86.5]\n",
      " [1L 1 36.0 120.0]\n",
      " [1L 1 51.0 77.9583]\n",
      " [2L 1 57.0 10.5]\n",
      " [1L 1 43.0 211.3375]\n",
      " [1L 1 17.0 57.0]\n",
      " [1L 0 29.0 30.0]\n",
      " [1L 0 46.0 79.2]\n",
      " [1L 1 49.0 25.9292]\n",
      " [1L 0 11.0 120.0]\n",
      " [1L 0 39.0 0.0]\n",
      " [1L 1 33.0 53.1]\n",
      " [1L 1 52.0 93.5]\n",
      " [3L 1 27.0 12.475]\n",
      " [1L 1 39.0 83.1583]\n",
      " [1L 1 16.0 39.4]\n",
      " [1L 0 51.0 26.55]\n",
      " [1L 1 48.0 25.9292]\n",
      " [1L 0 31.0 50.4958]\n",
      " [1L 1 47.0 52.5542]\n",
      " [1L 0 33.0 5.0]\n",
      " [1L 1 56.0 83.1583]\n",
      " [1L 1 19.0 30.0]\n",
      " [1L 0 26.0 30.0]]\n"
     ]
    }
   ],
   "source": [
    "print features_one"
   ]
  },
  {
   "cell_type": "code",
   "execution_count": 79,
   "metadata": {
    "collapsed": false
   },
   "outputs": [
    {
     "name": "stdout",
     "output_type": "stream",
     "text": [
      "[ 0.          0.2834689   0.41337348  0.30315762]\n",
      "1.0\n"
     ]
    }
   ],
   "source": [
    "# Fit your first decision tree: my_tree_one\n",
    "my_tree_one = tree.DecisionTreeClassifier()\n",
    "my_tree_one = my_tree_one.fit(features_one, target)\n",
    "\n",
    "# Look at the importance and score of the included features\n",
    "print(my_tree_one.feature_importances_)\n",
    "print(my_tree_one.score(features_one, target))\n"
   ]
  },
  {
   "cell_type": "code",
   "execution_count": 80,
   "metadata": {
    "collapsed": false
   },
   "outputs": [
    {
     "name": "stderr",
     "output_type": "stream",
     "text": [
      "C:\\Users\\ronald_haynes\\AppData\\Local\\Continuum\\Anaconda2\\lib\\site-packages\\ipykernel\\__main__.py:2: SettingWithCopyWarning: \n",
      "A value is trying to be set on a copy of a slice from a DataFrame\n",
      "\n",
      "See the caveats in the documentation: http://pandas.pydata.org/pandas-docs/stable/indexing.html#indexing-view-versus-copy\n",
      "  from ipykernel import kernelapp as app\n"
     ]
    }
   ],
   "source": [
    "# Impute the missing value with the median\n",
    "test.Fare[152] = test.Fare.median()\n"
   ]
  },
  {
   "cell_type": "code",
   "execution_count": 88,
   "metadata": {
    "collapsed": false
   },
   "outputs": [
    {
     "name": "stderr",
     "output_type": "stream",
     "text": [
      "C:\\Users\\ronald_haynes\\AppData\\Local\\Continuum\\Anaconda2\\lib\\site-packages\\ipykernel\\__main__.py:3: SettingWithCopyWarning: \n",
      "A value is trying to be set on a copy of a slice from a DataFrame\n",
      "\n",
      "See the caveats in the documentation: http://pandas.pydata.org/pandas-docs/stable/indexing.html#indexing-view-versus-copy\n",
      "  app.launch_new_instance()\n",
      "C:\\Users\\ronald_haynes\\AppData\\Local\\Continuum\\Anaconda2\\lib\\site-packages\\ipykernel\\__main__.py:4: SettingWithCopyWarning: \n",
      "A value is trying to be set on a copy of a slice from a DataFrame\n",
      "\n",
      "See the caveats in the documentation: http://pandas.pydata.org/pandas-docs/stable/indexing.html#indexing-view-versus-copy\n"
     ]
    }
   ],
   "source": [
    "test = test.dropna()\n",
    "# Convert the male and female groups to integer form\n",
    "test[\"Sex\"][test[\"Sex\"] == \"male\"] = 0\n",
    "test[\"Sex\"][test[\"Sex\"] == \"female\"] = 1\n",
    "\n",
    "# Extract the features from the test set: Pclass, Sex, Age, and Fare.\n",
    "test_features = test[[\"Pclass\", \"Sex\", \"Age\", \"Fare\"]].values\n"
   ]
  },
  {
   "cell_type": "code",
   "execution_count": 89,
   "metadata": {
    "collapsed": false
   },
   "outputs": [
    {
     "name": "stdout",
     "output_type": "stream",
     "text": [
      "[[1L 1 23.0 82.2667]\n",
      " [1L 1 47.0 61.175]\n",
      " [1L 1 48.0 262.375]\n",
      " [1L 1 22.0 61.9792]\n",
      " [1L 0 41.0 30.5]\n",
      " [1L 0 30.0 57.75]\n",
      " [1L 1 45.0 52.5542]\n",
      " [1L 0 45.0 29.7]\n",
      " [1L 1 60.0 76.2917]\n",
      " [1L 0 24.0 60.0]\n",
      " [1L 1 28.0 263.0]\n",
      " [3L 0 25.0 7.65]\n",
      " [1L 1 36.0 262.375]\n",
      " [1L 0 13.0 262.375]\n",
      " [1L 0 31.0 28.5375]\n",
      " [1L 1 60.0 263.0]\n",
      " [1L 0 28.5 27.7208]\n",
      " [1L 1 35.0 211.5]\n",
      " [1L 0 32.5 211.5]\n",
      " [1L 1 55.0 25.7]\n",
      " [1L 0 67.0 221.7792]\n",
      " [1L 1 27.0 52.0]\n",
      " [1L 1 76.0 78.85]\n",
      " [1L 1 43.0 55.4417]\n",
      " [2L 0 18.5 13.0]\n",
      " [1L 1 36.0 31.6792]\n",
      " [1L 1 63.0 221.7792]\n",
      " [3L 1 1.0 16.7]\n",
      " [1L 0 36.0 75.2417]\n",
      " [1L 1 35.0 57.75]\n",
      " [1L 0 53.0 28.5]\n",
      " [1L 0 61.0 262.375]\n",
      " [1L 1 23.0 83.1583]\n",
      " [1L 1 29.0 221.7792]\n",
      " [1L 0 42.0 26.55]\n",
      " [1L 0 48.0 50.4958]\n",
      " [1L 0 54.0 55.4417]\n",
      " [2L 1 36.0 39.0]\n",
      " [1L 1 64.0 83.1583]\n",
      " [1L 0 37.0 83.1583]\n",
      " [1L 1 18.0 53.1]\n",
      " [1L 1 27.0 247.5208]\n",
      " [1L 0 6.0 134.5]\n",
      " [1L 0 47.0 227.525]\n",
      " [1L 1 33.0 27.7208]\n",
      " [1L 0 42.0 42.5]\n",
      " [1L 1 50.0 211.5]\n",
      " [2L 1 22.0 10.5]\n",
      " [1L 0 39.0 71.2833]\n",
      " [1L 0 64.0 75.25]\n",
      " [1L 1 48.0 106.425]\n",
      " [1L 0 45.0 134.5]\n",
      " [1L 0 41.0 51.8625]\n",
      " [1L 0 27.0 136.7792]\n",
      " [1L 0 46.0 75.2417]\n",
      " [1L 1 26.0 136.7792]\n",
      " [1L 0 24.0 82.2667]\n",
      " [1L 0 53.0 81.8583]\n",
      " [1L 1 64.0 26.55]\n",
      " [1L 0 30.0 151.55]\n",
      " [1L 0 55.0 93.5]\n",
      " [1L 1 55.0 135.6333]\n",
      " [1L 0 57.0 146.5208]\n",
      " [3L 0 25.0 7.2292]\n",
      " [2L 0 26.0 13.0]\n",
      " [2L 1 12.0 39.0]\n",
      " [1L 0 39.0 29.7]\n",
      " [1L 0 30.0 26.0]\n",
      " [1L 1 58.0 512.3292]\n",
      " [1L 1 45.0 63.3583]\n",
      " [1L 0 50.0 26.0]\n",
      " [1L 1 59.0 51.4792]\n",
      " [1L 1 25.0 55.4417]\n",
      " [1L 1 31.0 134.5]\n",
      " [1L 0 49.0 0.0]\n",
      " [1L 1 54.0 81.8583]\n",
      " [1L 0 55.0 50.0]\n",
      " [1L 0 23.0 93.5]\n",
      " [1L 1 51.0 39.4]\n",
      " [1L 1 18.0 60.0]\n",
      " [1L 1 48.0 79.2]\n",
      " [1L 1 30.0 164.8667]\n",
      " [1L 0 43.0 27.7208]\n",
      " [2L 0 20.0 13.8625]\n",
      " [1L 0 50.0 211.5]\n",
      " [1L 1 37.0 90.0]\n",
      " [1L 1 39.0 108.9]]\n"
     ]
    }
   ],
   "source": [
    "\n",
    "print test_features"
   ]
  },
  {
   "cell_type": "code",
   "execution_count": 90,
   "metadata": {
    "collapsed": false
   },
   "outputs": [
    {
     "name": "stdout",
     "output_type": "stream",
     "text": [
      "[1 1 1 1 1 0 1 0 1 1 1 0 1 1 0 1 1 1 1 0 0 1 1 1 0 1 1 0 0 1 1 0 1 1 1 1 0\n",
      " 1 1 0 1 1 1 0 1 1 1 1 0 0 1 0 1 1 0 1 0 0 1 0 0 1 0 0 1 1 0 0 1 1 1 1 1 1\n",
      " 1 1 0 0 0 1 1 1 1 0 0 1 1]\n"
     ]
    }
   ],
   "source": [
    " # Make your prediction using the test set and print them.\n",
    "my_prediction = my_tree_one.predict(test_features)\n",
    "print(my_prediction)\n"
   ]
  },
  {
   "cell_type": "code",
   "execution_count": 91,
   "metadata": {
    "collapsed": false
   },
   "outputs": [
    {
     "name": "stdout",
     "output_type": "stream",
     "text": [
      "      Survived\n",
      "904          1\n",
      "906          1\n",
      "916          1\n",
      "918          1\n",
      "920          1\n",
      "926          0\n",
      "936          1\n",
      "938          0\n",
      "940          1\n",
      "942          1\n",
      "945          1\n",
      "949          0\n",
      "951          1\n",
      "956          1\n",
      "960          0\n",
      "961          1\n",
      "965          1\n",
      "966          1\n",
      "967          1\n",
      "969          0\n",
      "973          0\n",
      "984          1\n",
      "988          1\n",
      "992          1\n",
      "1001         0\n",
      "1004         1\n",
      "1006         1\n",
      "1009         0\n",
      "1010         0\n",
      "1014         1\n",
      "...        ...\n",
      "1185         0\n",
      "1197         1\n",
      "1198         0\n",
      "1200         0\n",
      "1206         1\n",
      "1208         0\n",
      "1213         0\n",
      "1214         1\n",
      "1218         1\n",
      "1223         0\n",
      "1227         0\n",
      "1235         1\n",
      "1242         1\n",
      "1247         1\n",
      "1248         1\n",
      "1256         1\n",
      "1263         1\n",
      "1264         1\n",
      "1266         1\n",
      "1270         0\n",
      "1282         0\n",
      "1283         0\n",
      "1287         1\n",
      "1289         1\n",
      "1292         1\n",
      "1296         1\n",
      "1297         0\n",
      "1299         0\n",
      "1303         1\n",
      "1306         1\n",
      "\n",
      "[87 rows x 1 columns]\n"
     ]
    }
   ],
   "source": [
    "# Create a data frame with two columns: PassengerId & Survived. Survived contains your predictions\n",
    "PassengerId =np.array(test[\"PassengerId\"]).astype(int)\n",
    "my_solution = pd.DataFrame(my_prediction, PassengerId, columns = [\"Survived\"])\n",
    "print(my_solution)\n"
   ]
  },
  {
   "cell_type": "code",
   "execution_count": 93,
   "metadata": {
    "collapsed": false
   },
   "outputs": [],
   "source": [
    "# Write your solution to a csv file with the name my_solution.csv\n",
    "my_solution.to_csv(\"my_solution_one.csv\", index_label = [\"PassengerId\"])\n",
    "\n"
   ]
  },
  {
   "cell_type": "code",
   "execution_count": null,
   "metadata": {
    "collapsed": true
   },
   "outputs": [],
   "source": []
  }
 ],
 "metadata": {
  "anaconda-cloud": {},
  "kernelspec": {
   "display_name": "Python [Root]",
   "language": "python",
   "name": "Python [Root]"
  },
  "language_info": {
   "codemirror_mode": {
    "name": "ipython",
    "version": 2
   },
   "file_extension": ".py",
   "mimetype": "text/x-python",
   "name": "python",
   "nbconvert_exporter": "python",
   "pygments_lexer": "ipython2",
   "version": "2.7.12"
  }
 },
 "nbformat": 4,
 "nbformat_minor": 0
}
